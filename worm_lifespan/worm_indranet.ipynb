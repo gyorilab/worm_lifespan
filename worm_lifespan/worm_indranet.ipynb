{
 "cells": [
  {
   "metadata": {},
   "cell_type": "markdown",
   "source": [
    " # WormBase INDRA Statements to IndraNet Interaction Networks\n",
    "\n",
    "**Bradley Buchner**\n",
    "\n",
    "The code below uses IndraNet and IndraNetAssembler to process INDRA Statements from WormBase and turn them into networkx graphs. Two networks are created: one for all INDRA statements (a.k.a the full network), and one for only INDRA statements for aging-related interactions, (a.k.a. the aging network)."
   ],
   "id": "5210edb8a21bb550"
  },
  {
   "metadata": {},
   "cell_type": "markdown",
   "source": [
    "\n",
    "## Findings and Decisions\n",
    "(1) The genetic and molecular interactions files from WormBase actually does contain the same interaction more than once, but each duplicate is listed under its own unique WB interaction ID, meaning that some edges in the interaction network correspond to multiple INDRA statements. In the network, I define an interaction's 'evidence' as the number of INDRA statements associated with it.\n",
    "\n",
    "(2) For some agent pairs in the network, there are not only multiple INDRA statements associated with it but also multiple interaction types. E.g., the subject-object pair tbx-8 and tbx-9 is associated with interaction types IncreaseAmount, DecreaseAmount, and Complex. To handle this, I decided to hold onto only the interaction type with the most recent discovery date. If there's a tie, I choose an interaction type at random.\n",
    "\n",
    "(3) Complex interactions are double-counted, so there are two edges between agents in every Complex interaction. The make_df() method does this by design– I'm not sure the purpose of it, but I chose to leave this setting as is.\n",
    "\n",
    "(4) Some interactions are duplicated with alternate agent IDs. E.g., the Complex interation between tbx-8 and tbx-9 is counted twice, with the only difference being that one uses the Uniprot (UP) ID for tbx-9 (in the column 'agB_id') and the other uses an alternate ID. To handle this, I decided to keep only the interaction with the most recent discovery date for these special cases, which totaled only 126 out of 72,712 total agent pairs.\n",
    "\n",
    "(5) There are 574 Complex interactions of an agent with itself, which create self loops in the network.\n"
   ],
   "id": "4ce7117746179e68"
  },
  {
   "cell_type": "code",
   "id": "initial_id",
   "metadata": {
    "collapsed": true,
    "ExecuteTime": {
     "end_time": "2025-04-25T14:20:36.519791Z",
     "start_time": "2025-04-25T14:20:09.849385Z"
    }
   },
   "source": [
    "import sys\n",
    "import requests\n",
    "sys.path.append('/Users/bradleybuchner/Desktop/Grad School/Research/Aging Project/indra/indra')\n",
    "from sources.wormbase import *\n",
    "from indra.assemblers.indranet import IndraNetAssembler\n",
    "from indra.assemblers.indranet import IndraNet\n",
    "import networkx as nx\n",
    "import json\n",
    "import numpy as np\n",
    "\n",
    "# full_file_gen = '/Users/bradleybuchner/Desktop/Grad School/Research/Aging Project/data/INTERACTION-GEN_WB.tsv'\n",
    "# full_file_mol = '/Users/bradleybuchner/Desktop/Grad School/Research/Aging Project/data/INTERACTION-MOL_WB_3.tsv'\n",
    "# full_file_map = '/Users/bradleybuchner/Desktop/Grad School/Research/Aging Project/data/wormbase_entrez_mappings.tsv'"
   ],
   "outputs": [],
   "execution_count": 1
  },
  {
   "metadata": {
    "ExecuteTime": {
     "end_time": "2025-04-25T14:22:18.188312Z",
     "start_time": "2025-04-25T14:20:53.799044Z"
    }
   },
   "cell_type": "code",
   "source": [
    "processor = process_from_web()\n",
    "# processor = process_from_files(full_file_gen, full_file_mol, full_file_map)\n",
    "all_statements = processor.statements"
   ],
   "id": "bc639093adab14f7",
   "outputs": [
    {
     "name": "stderr",
     "output_type": "stream",
     "text": [
      "Processing WormBase rows:   0%|          | 0/97382 [00:00<?, ?it/s]INFO: [2025-04-25 10:21:00] indra.ontology.bio.ontology - Loading INDRA bio ontology from cache at /Users/bradleybuchner/.indra/bio_ontology/1.34/bio_ontology.pkl\n",
      "Processing WormBase rows: 100%|██████████| 97382/97382 [01:18<00:00, 1248.39it/s]\n"
     ]
    }
   ],
   "execution_count": 2
  },
  {
   "metadata": {},
   "cell_type": "markdown",
   "source": "## Statement List Processing",
   "id": "21d34833d00ca5c8"
  },
  {
   "metadata": {
    "ExecuteTime": {
     "end_time": "2025-05-02T20:45:19.287078Z",
     "start_time": "2025-05-02T20:45:02.994727Z"
    }
   },
   "cell_type": "code",
   "source": [
    "## Summarize statement list and filter out duplicates\n",
    "from collections import Counter\n",
    "print(f'Number of statements before filtering: {len(all_statements)}')\n",
    "str_stmts = [str(stmt) for stmt in all_statements]\n",
    "stmt_counter = Counter(str_stmts)\n",
    "more_than_one_stmts = {key: value for key, value in stmt_counter.items() if value > 1}\n",
    "print(f'\\nNumber of statements with more than one occurence: {len(more_than_one_stmts.keys())}')\n",
    "\n",
    "# Iterate in reverse order to keep the last occurrence of each duplicate since the statement list is in chronological order of discovery date, and we want to keep the most recent duplicate.\n",
    "seen_statements = set()\n",
    "filtered_stmt_list = []\n",
    "for s in reversed(all_statements):\n",
    "    str_stmt = str(s)\n",
    "    if str_stmt not in seen_statements:\n",
    "        seen_statements.add(str_stmt)\n",
    "        filtered_stmt_list.append(s)\n",
    "\n",
    "# Reverse the list back to maintain original order\n",
    "filtered_stmt_list.reverse()\n",
    "print(f'\\nNumber of statements after filtering: {len(filtered_stmt_list)}')\n",
    "# print(f'\\nUnique statement counts after filtering: {Counter(filtered_stmt_list).most_common(5)}\\n')\n",
    "\n",
    "agents_to_int_types = {str(s.real_agent_list()): [] for s in filtered_stmt_list}\n",
    "for s in filtered_stmt_list:\n",
    "    agents = str(s.real_agent_list())\n",
    "    agents_to_int_types[agents].append(type(s).__name__)\n",
    "\n",
    "count = 0\n",
    "total_count = 0\n",
    "for agent_pair in agents_to_int_types:\n",
    "    total_count += 1\n",
    "    if len(agents_to_int_types.get(agent_pair)) > 1:\n",
    "        count += 1\n",
    "        # print(f'{agent_pair}: {agents_to_int_types.get(agent_pair)}')\n",
    "\n",
    "print(f'\\nNumber of agent pairs with more than one interaction type: {count} (out of {total_count} total agent pairs)')"
   ],
   "id": "c8ee30f7981c6b35",
   "outputs": [
    {
     "name": "stdout",
     "output_type": "stream",
     "text": [
      "Number of statements before filtering: 90386\n",
      "\n",
      "Number of statements with more than one occurence: 7853\n",
      "\n",
      "Number of statements after filtering: 72856\n",
      "\n",
      "Number of agent pairs with more than one interaction type: 126 (out of 72724 total agent pairs)\n"
     ]
    }
   ],
   "execution_count": 33
  },
  {
   "metadata": {
    "ExecuteTime": {
     "end_time": "2025-04-25T14:47:28.757654Z",
     "start_time": "2025-04-25T14:47:07.091262Z"
    }
   },
   "cell_type": "code",
   "source": [
    "## Create an interaction DataFrame with two extra columns using the make_df() method and print its number of rows\n",
    "def get_evidence_count_custom(stmt):\n",
    "    str_stmt = str(stmt)\n",
    "    occurences = stmt_counter.get(str_stmt)\n",
    "    return int(occurences)\n",
    "\n",
    "import re\n",
    "def get_year(stmt):\n",
    "    interaction_info = stmt.evidence[0].annotations.get('interaction_info', {})\n",
    "    pub_authors_str = interaction_info.get('publication_first_authors')\n",
    "\n",
    "    if not isinstance(pub_authors_str, str):  # Ensure it's a string\n",
    "        return 0\n",
    "\n",
    "    match = re.search(r'\\((\\d{4})\\)', pub_authors_str)  # Extracts 4-digit year\n",
    "    return int(match.group(1)) if match else 0\n",
    "\n",
    "worm_net_assembler_full = IndraNetAssembler(filtered_stmt_list)\n",
    "\n",
    "worm_network_df_full = worm_net_assembler_full.make_df(keep_self_loops=True, extra_columns=[('evidence_count_custom', get_evidence_count_custom), ('discovery_year', get_year)])\n",
    "\n",
    "worm_network_basic_df_full = worm_net_assembler_full.make_df(keep_self_loops=False, extra_columns=[('evidence_count_custom', get_evidence_count_custom), ('discovery_year', get_year)])\n",
    "\n",
    "# Add a log-normalized confidence column\n",
    "max_evidence = worm_network_df_full['evidence_count_custom'].max()\n",
    "worm_network_df_full['interaction_confidence'] = (\n",
    "    np.log1p(worm_network_df_full['evidence_count_custom']) /\n",
    "    np.log1p(max_evidence)\n",
    ")\n",
    "max_evidence_basic = worm_network_basic_df_full['evidence_count_custom'].max()\n",
    "worm_network_basic_df_full['interaction_confidence'] = (\n",
    "    np.log1p(worm_network_basic_df_full['evidence_count_custom']) /\n",
    "    np.log1p(max_evidence_basic)\n",
    ")\n",
    "\n",
    "print(f'\\nNumber of rows in network df: {worm_network_df_full.shape[0]}')\n",
    "print(f'\\nNumber of rows in basic network df: {worm_network_basic_df_full.shape[0]}')"
   ],
   "id": "b796470d1659335f",
   "outputs": [
    {
     "name": "stdout",
     "output_type": "stream",
     "text": [
      "\n",
      "Number of rows in network df: 142604\n",
      "\n",
      "Number of rows in basic network df: 141454\n"
     ]
    }
   ],
   "execution_count": 12
  },
  {
   "metadata": {
    "ExecuteTime": {
     "end_time": "2025-04-25T14:47:31.612942Z",
     "start_time": "2025-04-25T14:47:31.531503Z"
    }
   },
   "cell_type": "code",
   "source": [
    "## Inspect an example in the DataFrame of an agent pair having more than one type of interaction AND duplicated rows of the same interaction type (tbx-8 and tbx-9)\n",
    "display(worm_network_df_full[(worm_network_df_full.agA_name == 'tbx-8') & (worm_network_df_full.agB_name == 'tbx-9')])\n",
    "# display(worm_network_df_full[(worm_network_df_full.agA_name == 'daf-16') & (worm_network_df_full.agB_name == 'akt-1')])\n"
   ],
   "id": "ab170f5e44a97e7b",
   "outputs": [
    {
     "data": {
      "text/plain": [
       "       agA_name agB_name agA_ns  agA_id agB_ns  agB_id residue position  \\\n",
       "1059      tbx-8    tbx-9     UP  Q22292     UP  Q22289    None     None   \n",
       "2532      tbx-8    tbx-9     UP  Q22292     UP  Q22289    None     None   \n",
       "17874     tbx-8    tbx-9     UP  Q22292     UP  Q22289    None     None   \n",
       "122666    tbx-8    tbx-9     UP  Q22292   TEXT   tbx-9    None     None   \n",
       "\n",
       "             stmt_type  evidence_count          stmt_hash  belief  \\\n",
       "1059    IncreaseAmount               1  18814132200930594       1   \n",
       "2532    DecreaseAmount               1  -2215717740639521       1   \n",
       "17874          Complex               1  34504847081181691       1   \n",
       "122666         Complex               1   1815207662176294       1   \n",
       "\n",
       "          source_counts initial_sign  evidence_count_custom  discovery_year  \\\n",
       "1059    {'wormbase': 1}         None                      1            2004   \n",
       "2532    {'wormbase': 1}         None                      1            2011   \n",
       "17874   {'wormbase': 1}         None                      2            2013   \n",
       "122666  {'wormbase': 1}         None                      1            2016   \n",
       "\n",
       "        interaction_confidence  \n",
       "1059                  0.136915  \n",
       "2532                  0.136915  \n",
       "17874                 0.217006  \n",
       "122666                0.136915  "
      ],
      "text/html": [
       "<div>\n",
       "<style scoped>\n",
       "    .dataframe tbody tr th:only-of-type {\n",
       "        vertical-align: middle;\n",
       "    }\n",
       "\n",
       "    .dataframe tbody tr th {\n",
       "        vertical-align: top;\n",
       "    }\n",
       "\n",
       "    .dataframe thead th {\n",
       "        text-align: right;\n",
       "    }\n",
       "</style>\n",
       "<table border=\"1\" class=\"dataframe\">\n",
       "  <thead>\n",
       "    <tr style=\"text-align: right;\">\n",
       "      <th></th>\n",
       "      <th>agA_name</th>\n",
       "      <th>agB_name</th>\n",
       "      <th>agA_ns</th>\n",
       "      <th>agA_id</th>\n",
       "      <th>agB_ns</th>\n",
       "      <th>agB_id</th>\n",
       "      <th>residue</th>\n",
       "      <th>position</th>\n",
       "      <th>stmt_type</th>\n",
       "      <th>evidence_count</th>\n",
       "      <th>stmt_hash</th>\n",
       "      <th>belief</th>\n",
       "      <th>source_counts</th>\n",
       "      <th>initial_sign</th>\n",
       "      <th>evidence_count_custom</th>\n",
       "      <th>discovery_year</th>\n",
       "      <th>interaction_confidence</th>\n",
       "    </tr>\n",
       "  </thead>\n",
       "  <tbody>\n",
       "    <tr>\n",
       "      <th>1059</th>\n",
       "      <td>tbx-8</td>\n",
       "      <td>tbx-9</td>\n",
       "      <td>UP</td>\n",
       "      <td>Q22292</td>\n",
       "      <td>UP</td>\n",
       "      <td>Q22289</td>\n",
       "      <td>None</td>\n",
       "      <td>None</td>\n",
       "      <td>IncreaseAmount</td>\n",
       "      <td>1</td>\n",
       "      <td>18814132200930594</td>\n",
       "      <td>1</td>\n",
       "      <td>{'wormbase': 1}</td>\n",
       "      <td>None</td>\n",
       "      <td>1</td>\n",
       "      <td>2004</td>\n",
       "      <td>0.136915</td>\n",
       "    </tr>\n",
       "    <tr>\n",
       "      <th>2532</th>\n",
       "      <td>tbx-8</td>\n",
       "      <td>tbx-9</td>\n",
       "      <td>UP</td>\n",
       "      <td>Q22292</td>\n",
       "      <td>UP</td>\n",
       "      <td>Q22289</td>\n",
       "      <td>None</td>\n",
       "      <td>None</td>\n",
       "      <td>DecreaseAmount</td>\n",
       "      <td>1</td>\n",
       "      <td>-2215717740639521</td>\n",
       "      <td>1</td>\n",
       "      <td>{'wormbase': 1}</td>\n",
       "      <td>None</td>\n",
       "      <td>1</td>\n",
       "      <td>2011</td>\n",
       "      <td>0.136915</td>\n",
       "    </tr>\n",
       "    <tr>\n",
       "      <th>17874</th>\n",
       "      <td>tbx-8</td>\n",
       "      <td>tbx-9</td>\n",
       "      <td>UP</td>\n",
       "      <td>Q22292</td>\n",
       "      <td>UP</td>\n",
       "      <td>Q22289</td>\n",
       "      <td>None</td>\n",
       "      <td>None</td>\n",
       "      <td>Complex</td>\n",
       "      <td>1</td>\n",
       "      <td>34504847081181691</td>\n",
       "      <td>1</td>\n",
       "      <td>{'wormbase': 1}</td>\n",
       "      <td>None</td>\n",
       "      <td>2</td>\n",
       "      <td>2013</td>\n",
       "      <td>0.217006</td>\n",
       "    </tr>\n",
       "    <tr>\n",
       "      <th>122666</th>\n",
       "      <td>tbx-8</td>\n",
       "      <td>tbx-9</td>\n",
       "      <td>UP</td>\n",
       "      <td>Q22292</td>\n",
       "      <td>TEXT</td>\n",
       "      <td>tbx-9</td>\n",
       "      <td>None</td>\n",
       "      <td>None</td>\n",
       "      <td>Complex</td>\n",
       "      <td>1</td>\n",
       "      <td>1815207662176294</td>\n",
       "      <td>1</td>\n",
       "      <td>{'wormbase': 1}</td>\n",
       "      <td>None</td>\n",
       "      <td>1</td>\n",
       "      <td>2016</td>\n",
       "      <td>0.136915</td>\n",
       "    </tr>\n",
       "  </tbody>\n",
       "</table>\n",
       "</div>"
      ]
     },
     "metadata": {},
     "output_type": "display_data"
    }
   ],
   "execution_count": 13
  },
  {
   "metadata": {
    "ExecuteTime": {
     "end_time": "2025-04-25T14:47:32.941393Z",
     "start_time": "2025-04-25T14:47:32.879227Z"
    }
   },
   "cell_type": "code",
   "source": [
    "## Show how Complex interactions are counted twice in the network since and are given two edges:\n",
    "\n",
    "statement_type_counter_og = Counter([type(s).__name__ for s in filtered_stmt_list])\n",
    "print(f'Interaction type counts from list of INDRA statements: \\n\\t{statement_type_counter_og}')\n",
    "\n",
    "statement_type_counter_df = Counter(worm_network_df_full['stmt_type'])\n",
    "print(f'\\nInteraction type counts from IndraNet DataFrame: \\n\\t{statement_type_counter_df}')"
   ],
   "id": "6cf4f069e58f82e1",
   "outputs": [
    {
     "name": "stdout",
     "output_type": "stream",
     "text": [
      "Interaction type counts from list of INDRA statements: \n",
      "\tCounter({'Complex': 69748, 'DecreaseAmount': 2114, 'IncreaseAmount': 988, 'Phosphorylation': 3, 'Demethylation': 2, 'Methylation': 1})\n",
      "\n",
      "Interaction type counts from IndraNet DataFrame: \n",
      "\tCounter({'Complex': 139496, 'DecreaseAmount': 2114, 'IncreaseAmount': 988, 'Phosphorylation': 3, 'Demethylation': 2, 'Methylation': 1})\n"
     ]
    }
   ],
   "execution_count": 14
  },
  {
   "metadata": {
    "ExecuteTime": {
     "end_time": "2025-04-25T14:47:34.430881Z",
     "start_time": "2025-04-25T14:47:34.140798Z"
    }
   },
   "cell_type": "code",
   "source": [
    "## Show the number of self interactions in the statement list\n",
    "from itertools import permutations\n",
    "edge_count = 0\n",
    "self_loop_count = 0\n",
    "for s in filtered_stmt_list:\n",
    "    if type(s).__name__ == \"Complex\":\n",
    "        not_none_agents = s.real_agent_list()\n",
    "        if len(not_none_agents) > 1:\n",
    "            edges = [(a, b, None) for a, b in\n",
    "                             permutations(not_none_agents, 2)]\n",
    "            edge_count += len(edges)\n",
    "        for (agA, agB, sign) in edges:\n",
    "            if agA.name == agB.name:\n",
    "                self_loop_count += 1\n",
    "\n",
    "print(f'Number of self loops (self interactions): {int(self_loop_count/2)} (out of {int(edge_count/2)} total interactions)')"
   ],
   "id": "c72a739c2e049bb7",
   "outputs": [
    {
     "name": "stdout",
     "output_type": "stream",
     "text": [
      "Number of self loops (self interactions): 575 (out of 69748 total interactions)\n"
     ]
    }
   ],
   "execution_count": 15
  },
  {
   "metadata": {
    "ExecuteTime": {
     "end_time": "2025-04-25T14:47:36.954319Z",
     "start_time": "2025-04-25T14:47:36.387252Z"
    }
   },
   "cell_type": "code",
   "source": [
    "## Filter df to address agent pair-interaction type combinations that are getting double-counted due to alternate agent IDs. E.g., the Complex interaction between tbx-8 and tbx-9 is counted twice, with the only difference being one uses the Uniprot (UP) ID for tbx-9 and the other uses an alternate ID. For each combination, keep only the one with the most recent 'discovery_year'.\n",
    "filtered_worm_network_df_full = worm_network_df_full.sort_values(\n",
    "    'discovery_year',\n",
    "    ascending=False\n",
    ").drop_duplicates(\n",
    "    subset=['agA_name', 'agB_name'],\n",
    "    keep='first'\n",
    ").reset_index(drop=True)\n",
    "\n",
    "print(f'Rows in filtered df: {filtered_worm_network_df_full.shape[0]}')\n",
    "\n",
    "## Inspect an example agent pair in the DataFrame\n",
    "display(filtered_worm_network_df_full[(filtered_worm_network_df_full.agA_name == 'daf-16') & (filtered_worm_network_df_full.agB_name == 'akt-1')])\n"
   ],
   "id": "34f2597124e313ed",
   "outputs": [
    {
     "name": "stdout",
     "output_type": "stream",
     "text": [
      "Rows in filtered df: 138749\n"
     ]
    },
    {
     "data": {
      "text/plain": [
       "      agA_name agB_name agA_ns  agA_id agB_ns  agB_id residue position  \\\n",
       "47780   daf-16    akt-1     UP  O16850     UP  Q17941    None     None   \n",
       "1165    daf-16    akt-1     UP  O16850     UP  Q17941    None     None   \n",
       "\n",
       "            stmt_type  evidence_count          stmt_hash  belief  \\\n",
       "47780         Complex               1  -2653545217314764       1   \n",
       "1165   DecreaseAmount               1 -35140614671118626       1   \n",
       "\n",
       "         source_counts initial_sign  evidence_count_custom  discovery_year  \\\n",
       "47780  {'wormbase': 1}         None                      3            2004   \n",
       "1165   {'wormbase': 1}         None                      1            2006   \n",
       "\n",
       "       interaction_confidence  \n",
       "47780                0.273831  \n",
       "1165                 0.136915  "
      ],
      "text/html": [
       "<div>\n",
       "<style scoped>\n",
       "    .dataframe tbody tr th:only-of-type {\n",
       "        vertical-align: middle;\n",
       "    }\n",
       "\n",
       "    .dataframe tbody tr th {\n",
       "        vertical-align: top;\n",
       "    }\n",
       "\n",
       "    .dataframe thead th {\n",
       "        text-align: right;\n",
       "    }\n",
       "</style>\n",
       "<table border=\"1\" class=\"dataframe\">\n",
       "  <thead>\n",
       "    <tr style=\"text-align: right;\">\n",
       "      <th></th>\n",
       "      <th>agA_name</th>\n",
       "      <th>agB_name</th>\n",
       "      <th>agA_ns</th>\n",
       "      <th>agA_id</th>\n",
       "      <th>agB_ns</th>\n",
       "      <th>agB_id</th>\n",
       "      <th>residue</th>\n",
       "      <th>position</th>\n",
       "      <th>stmt_type</th>\n",
       "      <th>evidence_count</th>\n",
       "      <th>stmt_hash</th>\n",
       "      <th>belief</th>\n",
       "      <th>source_counts</th>\n",
       "      <th>initial_sign</th>\n",
       "      <th>evidence_count_custom</th>\n",
       "      <th>discovery_year</th>\n",
       "      <th>interaction_confidence</th>\n",
       "    </tr>\n",
       "  </thead>\n",
       "  <tbody>\n",
       "    <tr>\n",
       "      <th>47780</th>\n",
       "      <td>daf-16</td>\n",
       "      <td>akt-1</td>\n",
       "      <td>UP</td>\n",
       "      <td>O16850</td>\n",
       "      <td>UP</td>\n",
       "      <td>Q17941</td>\n",
       "      <td>None</td>\n",
       "      <td>None</td>\n",
       "      <td>Complex</td>\n",
       "      <td>1</td>\n",
       "      <td>-2653545217314764</td>\n",
       "      <td>1</td>\n",
       "      <td>{'wormbase': 1}</td>\n",
       "      <td>None</td>\n",
       "      <td>3</td>\n",
       "      <td>2004</td>\n",
       "      <td>0.273831</td>\n",
       "    </tr>\n",
       "    <tr>\n",
       "      <th>1165</th>\n",
       "      <td>daf-16</td>\n",
       "      <td>akt-1</td>\n",
       "      <td>UP</td>\n",
       "      <td>O16850</td>\n",
       "      <td>UP</td>\n",
       "      <td>Q17941</td>\n",
       "      <td>None</td>\n",
       "      <td>None</td>\n",
       "      <td>DecreaseAmount</td>\n",
       "      <td>1</td>\n",
       "      <td>-35140614671118626</td>\n",
       "      <td>1</td>\n",
       "      <td>{'wormbase': 1}</td>\n",
       "      <td>None</td>\n",
       "      <td>1</td>\n",
       "      <td>2006</td>\n",
       "      <td>0.136915</td>\n",
       "    </tr>\n",
       "  </tbody>\n",
       "</table>\n",
       "</div>"
      ]
     },
     "metadata": {},
     "output_type": "display_data"
    }
   ],
   "execution_count": 16
  },
  {
   "metadata": {
    "ExecuteTime": {
     "end_time": "2025-04-25T14:47:41.422696Z",
     "start_time": "2025-04-25T14:47:40.858850Z"
    }
   },
   "cell_type": "code",
   "source": [
    "## Filter df to address agent pair-interaction type combinations that are getting double-counted due to either multiple interaction types or alternate agent IDs. For each combination, keep only the one with the highest 'interaction_confidence', or most recent 'discovery_year' for ties.\n",
    "filtered_worm_network_basic_df_full = worm_network_basic_df_full.sort_values(\n",
    "    ['interaction_confidence', 'discovery_year'],\n",
    "    ascending=[False, False]\n",
    ").drop_duplicates(\n",
    "    subset=['agA_name', 'agB_name'],\n",
    "    keep='first'\n",
    ").reset_index(drop=True)\n",
    "\n",
    "print(f'Rows in filtered df: {filtered_worm_network_basic_df_full.shape[0]}')\n",
    "\n",
    "## Inspect an example agent pair in the DataFrame\n",
    "display(filtered_worm_network_basic_df_full[(filtered_worm_network_basic_df_full.agA_name == 'daf-16') & (filtered_worm_network_basic_df_full.agB_name == 'akt-1')])\n"
   ],
   "id": "2e63e96d44be7d87",
   "outputs": [
    {
     "name": "stdout",
     "output_type": "stream",
     "text": [
      "Rows in filtered df: 137964\n"
     ]
    },
    {
     "data": {
      "text/plain": [
       "     agA_name agB_name agA_ns  agA_id agB_ns  agB_id residue position  \\\n",
       "3820   daf-16    akt-1     UP  O16850     UP  Q17941    None     None   \n",
       "\n",
       "     stmt_type  evidence_count         stmt_hash  belief    source_counts  \\\n",
       "3820   Complex               1 -2653545217314764       1  {'wormbase': 1}   \n",
       "\n",
       "     initial_sign  evidence_count_custom  discovery_year  \\\n",
       "3820         None                      3            2004   \n",
       "\n",
       "      interaction_confidence  \n",
       "3820                0.273831  "
      ],
      "text/html": [
       "<div>\n",
       "<style scoped>\n",
       "    .dataframe tbody tr th:only-of-type {\n",
       "        vertical-align: middle;\n",
       "    }\n",
       "\n",
       "    .dataframe tbody tr th {\n",
       "        vertical-align: top;\n",
       "    }\n",
       "\n",
       "    .dataframe thead th {\n",
       "        text-align: right;\n",
       "    }\n",
       "</style>\n",
       "<table border=\"1\" class=\"dataframe\">\n",
       "  <thead>\n",
       "    <tr style=\"text-align: right;\">\n",
       "      <th></th>\n",
       "      <th>agA_name</th>\n",
       "      <th>agB_name</th>\n",
       "      <th>agA_ns</th>\n",
       "      <th>agA_id</th>\n",
       "      <th>agB_ns</th>\n",
       "      <th>agB_id</th>\n",
       "      <th>residue</th>\n",
       "      <th>position</th>\n",
       "      <th>stmt_type</th>\n",
       "      <th>evidence_count</th>\n",
       "      <th>stmt_hash</th>\n",
       "      <th>belief</th>\n",
       "      <th>source_counts</th>\n",
       "      <th>initial_sign</th>\n",
       "      <th>evidence_count_custom</th>\n",
       "      <th>discovery_year</th>\n",
       "      <th>interaction_confidence</th>\n",
       "    </tr>\n",
       "  </thead>\n",
       "  <tbody>\n",
       "    <tr>\n",
       "      <th>3820</th>\n",
       "      <td>daf-16</td>\n",
       "      <td>akt-1</td>\n",
       "      <td>UP</td>\n",
       "      <td>O16850</td>\n",
       "      <td>UP</td>\n",
       "      <td>Q17941</td>\n",
       "      <td>None</td>\n",
       "      <td>None</td>\n",
       "      <td>Complex</td>\n",
       "      <td>1</td>\n",
       "      <td>-2653545217314764</td>\n",
       "      <td>1</td>\n",
       "      <td>{'wormbase': 1}</td>\n",
       "      <td>None</td>\n",
       "      <td>3</td>\n",
       "      <td>2004</td>\n",
       "      <td>0.273831</td>\n",
       "    </tr>\n",
       "  </tbody>\n",
       "</table>\n",
       "</div>"
      ]
     },
     "metadata": {},
     "output_type": "display_data"
    }
   ],
   "execution_count": 17
  },
  {
   "metadata": {},
   "cell_type": "markdown",
   "source": "# Create the Full Network",
   "id": "8d83a2e5b57dec10"
  },
  {
   "metadata": {},
   "cell_type": "markdown",
   "source": "### Full Network (with self loops and contradictory interactions included)",
   "id": "50f76cde14840b56"
  },
  {
   "metadata": {
    "ExecuteTime": {
     "end_time": "2025-04-25T14:56:02.406648Z",
     "start_time": "2025-04-25T14:55:14.146545Z"
    }
   },
   "cell_type": "code",
   "source": [
    "## Create the aging network, plot a subgraph of it, and print its number of edges, nodes, and examples of edge attributes\n",
    "def flattening_function(G, edge):\n",
    "    # Return the average belief score of the constituent edges\n",
    "    all_beliefs = [s['belief'] for s in G.edges[edge]['statements']]\n",
    "    return sum(all_beliefs)/len(all_beliefs)\n",
    "\n",
    "sign_dict = {'Complex': 0, 'IncreaseAmount': 1, 'DecreaseAmount': -1, 'Phosphorylation': 0, 'Demethylation': 0, 'Methylation': 0}\n",
    "\n",
    "worm_network_full_signed = IndraNet().signed_from_df(df=filtered_worm_network_df_full, sign_dict=sign_dict, flattening_method=flattening_function)\n",
    "\n",
    "nodes_to_plot = list(worm_network_full_signed.nodes())[:5]\n",
    "subgraph = worm_network_full_signed.subgraph(nodes_to_plot)\n",
    "import matplotlib.pyplot as plt\n",
    "plt.figure(figsize=(3, 3))\n",
    "nx.draw(subgraph, with_labels=True, node_size=100, node_color='skyblue', font_size=10)\n",
    "plt.title('Subgraph of the Full Network')\n",
    "plt.show()\n",
    "\n",
    "print(f'Number of nodes: {worm_network_full_signed.number_of_nodes()}')\n",
    "print(f'Number of edges: {worm_network_full_signed.number_of_edges()}')\n",
    "\n",
    "print(\"Edge attributes:\\n\")\n",
    "for u, v, data in subgraph.edges(data=True):\n",
    "    print(f\"Edge ({u}, {v}) has attributes: {data}\\n\")\n"
   ],
   "id": "44f023c40f6fe249",
   "outputs": [
    {
     "data": {
      "text/plain": [
       "<Figure size 300x300 with 1 Axes>"
      ],
      "image/png": "[encoded data removed]"
     },
     "metadata": {},
     "output_type": "display_data"
    },
    {
     "name": "stdout",
     "output_type": "stream",
     "text": [
      "Number of nodes: 10987\n",
      "Number of edges: 138749\n",
      "Edge attributes:\n",
      "\n",
      "Edge (B0207.7, glh-1) has attributes: {'statements': [{'stmt_hash': -28053090247285571, 'stmt_type': 'Complex', 'evidence_count': 1, 'belief': 1, 'source_counts': {'wormbase': 1}, 'residue': None, 'initial_sign': None, 'discovery_year': 2022, 'interaction_confidence': 0.13691539142239212, 'evidence_count_custom': 1, 'position': None}], 'sign': 0, 'belief': 1.0}\n",
      "\n",
      "Edge (glh-1, B0207.7) has attributes: {'statements': [{'stmt_hash': -28053090247285571, 'stmt_type': 'Complex', 'evidence_count': 1, 'belief': 1, 'source_counts': {'wormbase': 1}, 'residue': None, 'initial_sign': None, 'discovery_year': 2022, 'interaction_confidence': 0.13691539142239212, 'evidence_count_custom': 1, 'position': None}], 'sign': 0, 'belief': 1.0}\n",
      "\n",
      "Edge (glh-1, glh-1) has attributes: {'statements': [{'stmt_hash': -30547541227696274, 'stmt_type': 'Complex', 'evidence_count': 1, 'belief': 1, 'source_counts': {'wormbase': 1}, 'residue': None, 'initial_sign': None, 'discovery_year': 2019, 'interaction_confidence': 0.21700576117605055, 'evidence_count_custom': 2, 'position': None}], 'sign': 0, 'belief': 1.0}\n",
      "\n",
      "Edge (glh-1, 21ur-12998) has attributes: {'statements': [{'stmt_hash': -9112186268380419, 'stmt_type': 'Complex', 'evidence_count': 1, 'belief': 1, 'source_counts': {'wormbase': 1}, 'residue': None, 'initial_sign': None, 'discovery_year': 2022, 'interaction_confidence': 0.13691539142239212, 'evidence_count_custom': 1, 'position': None}], 'sign': 0, 'belief': 1.0}\n",
      "\n",
      "Edge (glh-1, AC3.5) has attributes: {'statements': [{'stmt_hash': 15969158881714262, 'stmt_type': 'Complex', 'evidence_count': 1, 'belief': 1, 'source_counts': {'wormbase': 1}, 'residue': None, 'initial_sign': None, 'discovery_year': 2019, 'interaction_confidence': 0.13691539142239212, 'evidence_count_custom': 1, 'position': None}], 'sign': 0, 'belief': 1.0}\n",
      "\n",
      "Edge (glh-1, B0250.5) has attributes: {'statements': [{'stmt_hash': 23712942851825156, 'stmt_type': 'Complex', 'evidence_count': 1, 'belief': 1, 'source_counts': {'wormbase': 1}, 'residue': None, 'initial_sign': None, 'discovery_year': 2020, 'interaction_confidence': 0.21700576117605055, 'evidence_count_custom': 2, 'position': None}], 'sign': 0, 'belief': 1.0}\n",
      "\n",
      "Edge (21ur-12998, glh-1) has attributes: {'statements': [{'stmt_hash': -9112186268380419, 'stmt_type': 'Complex', 'evidence_count': 1, 'belief': 1, 'source_counts': {'wormbase': 1}, 'residue': None, 'initial_sign': None, 'discovery_year': 2022, 'interaction_confidence': 0.13691539142239212, 'evidence_count_custom': 1, 'position': None}], 'sign': 0, 'belief': 1.0}\n",
      "\n",
      "Edge (AC3.5, glh-1) has attributes: {'statements': [{'stmt_hash': 15969158881714262, 'stmt_type': 'Complex', 'evidence_count': 1, 'belief': 1, 'source_counts': {'wormbase': 1}, 'residue': None, 'initial_sign': None, 'discovery_year': 2019, 'interaction_confidence': 0.13691539142239212, 'evidence_count_custom': 1, 'position': None}], 'sign': 0, 'belief': 1.0}\n",
      "\n",
      "Edge (B0250.5, glh-1) has attributes: {'statements': [{'stmt_hash': 23712942851825156, 'stmt_type': 'Complex', 'evidence_count': 1, 'belief': 1, 'source_counts': {'wormbase': 1}, 'residue': None, 'initial_sign': None, 'discovery_year': 2020, 'interaction_confidence': 0.21700576117605055, 'evidence_count_custom': 2, 'position': None}], 'sign': 0, 'belief': 1.0}\n",
      "\n"
     ]
    }
   ],
   "execution_count": 23
  },
  {
   "metadata": {
    "ExecuteTime": {
     "end_time": "2025-04-25T15:07:49.711177Z",
     "start_time": "2025-04-25T15:07:37.616493Z"
    }
   },
   "cell_type": "code",
   "source": [
    "## Convert the networkx graph to a JSON-serializable format\n",
    "full_graph_data = nx.node_link_data(worm_network_full_signed)\n",
    "with open('data/worm_network_full_signed.json', 'w') as f:\n",
    "    json.dump(full_graph_data, f, indent=4)"
   ],
   "id": "79aba8ba6a47fdff",
   "outputs": [
    {
     "name": "stderr",
     "output_type": "stream",
     "text": [
      "/Users/bradleybuchner/Desktop/Grad School/Research/Aging Project/worm_lifespan/.venv/lib/python3.11/site-packages/networkx/readwrite/json_graph/node_link.py:142: FutureWarning: \n",
      "The default value will be `edges=\"edges\" in NetworkX 3.6.\n",
      "\n",
      "To make this warning go away, explicitly set the edges kwarg, e.g.:\n",
      "\n",
      "  nx.node_link_data(G, edges=\"links\") to preserve current behavior, or\n",
      "  nx.node_link_data(G, edges=\"edges\") for forward compatibility.\n",
      "  warnings.warn(\n"
     ]
    }
   ],
   "execution_count": 28
  },
  {
   "metadata": {},
   "cell_type": "markdown",
   "source": "### Full Network (without self loops and contradictory interactions included)",
   "id": "9cd351f2f9c26def"
  },
  {
   "metadata": {
    "ExecuteTime": {
     "end_time": "2025-04-25T14:56:34.375129Z",
     "start_time": "2025-04-25T14:56:20.236635Z"
    }
   },
   "cell_type": "code",
   "source": [
    "## Create the aging network, plot a subgraph of it, and print its number of edges, nodes, and examples of edge attributes\n",
    "def flattening_function(G, edge):\n",
    "    # Return the average belief score of the constituent edges\n",
    "    all_beliefs = [s['belief'] for s in G.edges[edge]['statements']]\n",
    "    return sum(all_beliefs)/len(all_beliefs)\n",
    "\n",
    "sign_dict = {'Complex': 0, 'IncreaseAmount': 1, 'DecreaseAmount': -1, 'Phosphorylation': 0, 'Demethylation': 0, 'Methylation': 0}\n",
    "\n",
    "worm_network_basic_full_signed = IndraNet().signed_from_df(df=filtered_worm_network_basic_df_full, sign_dict=sign_dict, flattening_method=flattening_function)\n",
    "\n",
    "nodes_to_plot = list(worm_network_basic_full_signed.nodes())[:5]\n",
    "subgraph = worm_network_basic_full_signed.subgraph(nodes_to_plot)\n",
    "import matplotlib.pyplot as plt\n",
    "plt.figure(figsize=(3, 3))\n",
    "nx.draw(subgraph, with_labels=True, node_size=100, node_color='skyblue', font_size=10)\n",
    "plt.title('Subgraph of the Full Network')\n",
    "plt.show()\n",
    "\n",
    "print(f'Number of nodes: {worm_network_basic_full_signed.number_of_nodes()}')\n",
    "print(f'Number of edges: {worm_network_basic_full_signed.number_of_edges()}')\n",
    "\n",
    "print(\"Edge attributes:\\n\")\n",
    "for u, v, data in subgraph.edges(data=True):\n",
    "    print(f\"Edge ({u}, {v}) has attributes: {data}\\n\")\n"
   ],
   "id": "be3c66b1ba4e2c8a",
   "outputs": [
    {
     "data": {
      "text/plain": [
       "<Figure size 300x300 with 1 Axes>"
      ],
      "image/png": "[encoded data removed]"
     },
     "metadata": {},
     "output_type": "display_data"
    },
    {
     "name": "stdout",
     "output_type": "stream",
     "text": [
      "Number of nodes: 10965\n",
      "Number of edges: 137964\n",
      "Edge attributes:\n",
      "\n",
      "Edge (rad-54.L2, atn-1) has attributes: {'statements': [{'stmt_hash': 5052633785247066, 'stmt_type': 'Complex', 'evidence_count': 1, 'belief': 1, 'source_counts': {'wormbase': 1}, 'residue': None, 'initial_sign': None, 'discovery_year': 2004, 'interaction_confidence': 1.0, 'evidence_count_custom': 157, 'position': None}], 'sign': 0, 'belief': 1.0}\n",
      "\n",
      "Edge (Y77E11A.7, atn-1) has attributes: {'statements': [{'stmt_hash': -4432179866214290, 'stmt_type': 'Complex', 'evidence_count': 1, 'belief': 1, 'source_counts': {'wormbase': 1}, 'residue': None, 'initial_sign': None, 'discovery_year': 2004, 'interaction_confidence': 0.5917384768109366, 'evidence_count_custom': 19, 'position': None}], 'sign': 0, 'belief': 1.0}\n",
      "\n",
      "Edge (Y77E11A.7, smo-1) has attributes: {'statements': [{'stmt_hash': -4224397468368858, 'stmt_type': 'Complex', 'evidence_count': 1, 'belief': 1, 'source_counts': {'wormbase': 1}, 'residue': None, 'initial_sign': None, 'discovery_year': 2021, 'interaction_confidence': 0.13691539142239212, 'evidence_count_custom': 1, 'position': None}], 'sign': 0, 'belief': 1.0}\n",
      "\n",
      "Edge (C40A11.7, atn-1) has attributes: {'statements': [{'stmt_hash': -7360120540990698, 'stmt_type': 'Complex', 'evidence_count': 1, 'belief': 1, 'source_counts': {'wormbase': 1}, 'residue': None, 'initial_sign': None, 'discovery_year': 2009, 'interaction_confidence': 0.6435625438666461, 'evidence_count_custom': 25, 'position': None}], 'sign': 0, 'belief': 1.0}\n",
      "\n",
      "Edge (atn-1, rad-54.L2) has attributes: {'statements': [{'stmt_hash': 5052633785247066, 'stmt_type': 'Complex', 'evidence_count': 1, 'belief': 1, 'source_counts': {'wormbase': 1}, 'residue': None, 'initial_sign': None, 'discovery_year': 2004, 'interaction_confidence': 1.0, 'evidence_count_custom': 157, 'position': None}], 'sign': 0, 'belief': 1.0}\n",
      "\n",
      "Edge (atn-1, Y77E11A.7) has attributes: {'statements': [{'stmt_hash': -4432179866214290, 'stmt_type': 'Complex', 'evidence_count': 1, 'belief': 1, 'source_counts': {'wormbase': 1}, 'residue': None, 'initial_sign': None, 'discovery_year': 2004, 'interaction_confidence': 0.5917384768109366, 'evidence_count_custom': 19, 'position': None}], 'sign': 0, 'belief': 1.0}\n",
      "\n",
      "Edge (atn-1, C40A11.7) has attributes: {'statements': [{'stmt_hash': -7360120540990698, 'stmt_type': 'Complex', 'evidence_count': 1, 'belief': 1, 'source_counts': {'wormbase': 1}, 'residue': None, 'initial_sign': None, 'discovery_year': 2009, 'interaction_confidence': 0.6435625438666461, 'evidence_count_custom': 25, 'position': None}], 'sign': 0, 'belief': 1.0}\n",
      "\n",
      "Edge (atn-1, smo-1) has attributes: {'statements': [{'stmt_hash': 19881550636442786, 'stmt_type': 'Complex', 'evidence_count': 1, 'belief': 1, 'source_counts': {'wormbase': 1}, 'residue': None, 'initial_sign': None, 'discovery_year': 2021, 'interaction_confidence': 0.7474802170095093, 'evidence_count_custom': 43, 'position': None}], 'sign': 0, 'belief': 1.0}\n",
      "\n",
      "Edge (smo-1, Y77E11A.7) has attributes: {'statements': [{'stmt_hash': -4224397468368858, 'stmt_type': 'Complex', 'evidence_count': 1, 'belief': 1, 'source_counts': {'wormbase': 1}, 'residue': None, 'initial_sign': None, 'discovery_year': 2021, 'interaction_confidence': 0.13691539142239212, 'evidence_count_custom': 1, 'position': None}], 'sign': 0, 'belief': 1.0}\n",
      "\n",
      "Edge (smo-1, atn-1) has attributes: {'statements': [{'stmt_hash': 19881550636442786, 'stmt_type': 'Complex', 'evidence_count': 1, 'belief': 1, 'source_counts': {'wormbase': 1}, 'residue': None, 'initial_sign': None, 'discovery_year': 2021, 'interaction_confidence': 0.7474802170095093, 'evidence_count_custom': 43, 'position': None}], 'sign': 0, 'belief': 1.0}\n",
      "\n"
     ]
    }
   ],
   "execution_count": 25
  },
  {
   "metadata": {
    "ExecuteTime": {
     "end_time": "2025-04-25T15:06:54.763608Z",
     "start_time": "2025-04-25T15:06:54.562456Z"
    }
   },
   "cell_type": "code",
   "source": [
    "import os\n",
    "os.getcwd()"
   ],
   "id": "77deec87c16ea5d7",
   "outputs": [
    {
     "data": {
      "text/plain": [
       "'/Users/bradleybuchner/Desktop/Grad School/Research/Aging Project/worm_lifespan/worm_lifespan'"
      ]
     },
     "execution_count": 27,
     "metadata": {},
     "output_type": "execute_result"
    }
   ],
   "execution_count": 27
  },
  {
   "metadata": {
    "ExecuteTime": {
     "end_time": "2025-04-25T15:08:34.428628Z",
     "start_time": "2025-04-25T15:08:23.570762Z"
    }
   },
   "cell_type": "code",
   "source": [
    "## Convert the networkx graph to a JSON-serializable format\n",
    "full_basic_graph_data = nx.node_link_data(worm_network_basic_full_signed)\n",
    "with open('data/worm_network_basic_full_signed.json', 'w') as f:\n",
    "    json.dump(full_basic_graph_data, f, indent=4)"
   ],
   "id": "784cb8a7c6fa84ee",
   "outputs": [
    {
     "name": "stderr",
     "output_type": "stream",
     "text": [
      "/Users/bradleybuchner/Desktop/Grad School/Research/Aging Project/worm_lifespan/.venv/lib/python3.11/site-packages/networkx/readwrite/json_graph/node_link.py:142: FutureWarning: \n",
      "The default value will be `edges=\"edges\" in NetworkX 3.6.\n",
      "\n",
      "To make this warning go away, explicitly set the edges kwarg, e.g.:\n",
      "\n",
      "  nx.node_link_data(G, edges=\"links\") to preserve current behavior, or\n",
      "  nx.node_link_data(G, edges=\"edges\") for forward compatibility.\n",
      "  warnings.warn(\n"
     ]
    }
   ],
   "execution_count": 30
  },
  {
   "metadata": {},
   "cell_type": "markdown",
   "source": "# Create the Aging Network",
   "id": "511817da56e05c6e"
  },
  {
   "metadata": {
    "ExecuteTime": {
     "end_time": "2025-05-02T20:45:51.197702Z",
     "start_time": "2025-05-02T20:45:50.785665Z"
    }
   },
   "cell_type": "code",
   "source": [
    "def get_mesh_ids_for_pmids(pmid_list):\n",
    "    \"\"\"Function that uses INDRA api to get all MeSH IDs for a list of PMIDs\n",
    "\n",
    "    Parameters\n",
    "    ----------\n",
    "    pmid_list : list\n",
    "        List of PMIDs\n",
    "\n",
    "    Returns\n",
    "    -------\n",
    "    pmid_mesh_dict : dict\n",
    "        Dictionary of pmid:[mesh ids] pairs\n",
    "    \"\"\"\n",
    "    url = \"https://discovery.indra.bio/api/get_mesh_ids_for_pmids\"\n",
    "    payload = {\n",
    "      \"pmids\": pmid_list\n",
    "    }\n",
    "    response = requests.post(url, json=payload)\n",
    "    if response.status_code == 200:\n",
    "        pmid_mesh_dict = response.json()\n",
    "        return pmid_mesh_dict\n",
    "    else:\n",
    "        print(\"Error:\", response.status_code, response.text)\n",
    "\n",
    "def map_mesh_ids_to_terms(mesh_ids):\n",
    "    \"\"\"Function that uses NIH api to map MeSH IDs to MeSH terms\n",
    "\n",
    "    Parameters\n",
    "    ----------\n",
    "    mesh_ids : list\n",
    "        List of MeSH IDs\n",
    "\n",
    "    Returns\n",
    "    -------\n",
    "    results : dict\n",
    "        Dictionary of id:term mappings\n",
    "    \"\"\"\n",
    "    base_url = \"https://id.nlm.nih.gov/mesh/\"\n",
    "    results = {}\n",
    "    for mesh_id in mesh_ids:\n",
    "        url = f\"{base_url}{mesh_id}.json\"\n",
    "        response = requests.get(url)\n",
    "        if response.status_code == 200:\n",
    "            data = response.json()\n",
    "            mesh_term = data.get('label', 'Unknown Term').get('@value')\n",
    "            results[mesh_id] = mesh_term\n",
    "        else:\n",
    "            results[mesh_id] = f\"Error: {response.status_code}\"\n",
    "    return results"
   ],
   "id": "50bd933511da7968",
   "outputs": [],
   "execution_count": 34
  },
  {
   "metadata": {
    "ExecuteTime": {
     "end_time": "2025-05-02T20:53:45.437218Z",
     "start_time": "2025-05-02T20:45:52.796393Z"
    }
   },
   "cell_type": "code",
   "source": [
    "# Create PMID-to-MeSH IDs dictionary\n",
    "all_pmids = [s.evidence[0].pmid for s in filtered_stmt_list]\n",
    "pmid_meshid_dict = get_mesh_ids_for_pmids(all_pmids)\n",
    "all_mesh_ids = []\n",
    "for pmid in pmid_meshid_dict:\n",
    "    all_mesh_ids.extend(pmid_meshid_dict.get(pmid))\n",
    "unique_mesh_ids = list(set(all_mesh_ids))\n",
    "\n",
    "# Create MeSH ID-to-Term dictionary\n",
    "mesh_id_to_term_dict = map_mesh_ids_to_terms(unique_mesh_ids)"
   ],
   "id": "922b96c5a7ce9b4a",
   "outputs": [],
   "execution_count": 35
  },
  {
   "metadata": {
    "ExecuteTime": {
     "end_time": "2025-05-03T19:30:11.834999Z",
     "start_time": "2025-05-03T19:30:06.093574Z"
    }
   },
   "cell_type": "code",
   "source": [
    "## Add MeSH terms into statement evidences (annotations)\n",
    "for s in all_statements:\n",
    "    if pmid_meshid_dict.get(s.evidence[0].pmid):\n",
    "        s.evidence[0].annotations['mesh_terms'] = {mesh_id: mesh_id_to_term_dict.get(mesh_id) for mesh_id in pmid_meshid_dict.get(s.evidence[0].pmid)}\n",
    "    else:\n",
    "        s.evidence[0].annotations['mesh_terms'] = {}\n"
   ],
   "id": "b36c242b6df2495c",
   "outputs": [],
   "execution_count": 61
  },
  {
   "metadata": {
    "ExecuteTime": {
     "end_time": "2025-05-03T19:30:24.159321Z",
     "start_time": "2025-05-03T19:30:23.628311Z"
    }
   },
   "cell_type": "code",
   "source": [
    "aging_mesh_terms = ['Aging', 'Cellular Senescence', 'Erythrocyte Aging', 'Senescence-Associated Secretory Phenotype', 'Telomere Shortening', 'Cognitive Aging', 'Immunosenescence', 'T-Cell Senescence', 'Longevity']\n",
    "\n",
    "from collections import Counter\n",
    "aging_str_stmts = [str(s) for s in all_statements if any([term in s.evidence[0].annotations['mesh_terms'].values() for term in aging_mesh_terms])]\n",
    "aging_str_stmt_counter = Counter(aging_str_stmts)\n",
    "aging_more_than_one_stmts = {key: value for key, value in aging_str_stmt_counter.items() if value > 1}\n",
    "print(f'\\nNumber of aging-related statements with more than one occurrence: {len(aging_more_than_one_stmts.keys())}')"
   ],
   "id": "15913fd268e8cafb",
   "outputs": [
    {
     "name": "stdout",
     "output_type": "stream",
     "text": [
      "\n",
      "Number of aging-related statements with more than one occurrence: 167\n"
     ]
    }
   ],
   "execution_count": 62
  },
  {
   "metadata": {
    "ExecuteTime": {
     "end_time": "2025-05-03T19:32:40.724847Z",
     "start_time": "2025-05-03T19:32:38.937777Z"
    }
   },
   "cell_type": "code",
   "source": [
    "## Show the number of INDRA statements whose PubMed ID contains an Aging-related MeSH term\n",
    "aging_statements = [s for s in filtered_stmt_list if any([term in s.evidence[0].annotations['mesh_terms'].values() for term in aging_mesh_terms])]\n",
    "\n",
    "print(f\"Number of statements with an Aging-related MeSH term: {len(aging_statements)} (out of {len(filtered_stmt_list)} total statements)\")"
   ],
   "id": "425dc2f9b95e5853",
   "outputs": [
    {
     "name": "stdout",
     "output_type": "stream",
     "text": [
      "Number of statements with an Aging-related MeSH term: 4345 (out of 72856 total statements)\n"
     ]
    }
   ],
   "execution_count": 63
  },
  {
   "metadata": {
    "ExecuteTime": {
     "end_time": "2025-05-04T22:28:21.882461Z",
     "start_time": "2025-05-04T22:28:07.146552Z"
    }
   },
   "cell_type": "code",
   "source": [
    "## Create an interaction DataFrame with two extra columns for aging-related statements using the make_df() method, print its number of rows and its interaction type counts\n",
    "def get_aging_evidence_count_custom(stmt):\n",
    "    str_stmt = str(stmt)\n",
    "    occurences = aging_str_stmt_counter.get(str_stmt)\n",
    "    return int(occurences)\n",
    "\n",
    "worm_net_assembler_aging = IndraNetAssembler(aging_statements)\n",
    "worm_network_df_aging = worm_net_assembler_aging.make_df(keep_self_loops=False, extra_columns=[('evidence_count_custom', get_evidence_count_custom), ('aging_evidence_count', get_aging_evidence_count_custom), ('discovery_year', get_year)])\n",
    "\n",
    "# Add a log-normalized confidence column for evidence_count_custom\n",
    "max_evidence_count_custom = worm_network_df_aging['evidence_count_custom'].max()\n",
    "worm_network_df_aging['interaction_confidence'] = (\n",
    "    np.log1p(worm_network_df_aging['evidence_count_custom']) /\n",
    "    np.log1p(max_evidence_count_custom)\n",
    ")\n",
    "\n",
    "# Add a log-normalized confidence column for aging_evidence_count\n",
    "max_aging_evidence_count = worm_network_df_aging['aging_evidence_count'].max()\n",
    "worm_network_df_aging['phenotype_confidence'] = (\n",
    "    np.log1p(worm_network_df_aging['aging_evidence_count']) /\n",
    "    np.log1p(max_aging_evidence_count)\n",
    ")\n",
    "\n",
    "plt.figure(figsize=(4,4))\n",
    "plt.hist(worm_network_df_aging['aging_evidence_count'])\n",
    "plt.yscale('log')\n",
    "plt.xlabel('# of Articles')\n",
    "plt.ylabel('# of Interactions')\n",
    "plt.title('Aging Evidence Count')\n",
    "plt.show()"
   ],
   "id": "198b420a51487eb1",
   "outputs": [
    {
     "data": {
      "text/plain": [
       "<Figure size 640x480 with 1 Axes>"
      ],
      "image/png": "[encoded data removed]"
     },
     "metadata": {},
     "output_type": "display_data"
    }
   ],
   "execution_count": 80
  },
  {
   "metadata": {
    "ExecuteTime": {
     "end_time": "2025-05-03T19:45:19.223299Z",
     "start_time": "2025-05-03T19:45:19.197772Z"
    }
   },
   "cell_type": "code",
   "source": [
    "## Filter df to address agent pair-interaction type combinations that are getting double-counted due to either multiple interaction types or alternate agent IDs. For each combination, keep only the one with the highest 'interaction_confidence', or most recent 'discovery_year' for ties.\n",
    "print(f'Rows in original df: {worm_network_df_aging.shape[0]}')\n",
    "\n",
    "filtered_worm_network_df_aging = worm_network_df_aging.sort_values(\n",
    "    ['interaction_confidence', 'discovery_year'],\n",
    "    ascending=[False, False]\n",
    ").drop_duplicates(\n",
    "    subset=['agA_name', 'agB_name'],\n",
    "    keep='first'\n",
    ").reset_index(drop=True)\n",
    "\n",
    "print(f'Rows in filtered df: {filtered_worm_network_df_aging.shape[0]}')"
   ],
   "id": "616ae919a8899caa",
   "outputs": [
    {
     "name": "stdout",
     "output_type": "stream",
     "text": [
      "Rows in original df: 8266\n",
      "Rows in filtered df: 8234\n"
     ]
    }
   ],
   "execution_count": 69
  },
  {
   "metadata": {
    "ExecuteTime": {
     "end_time": "2025-05-04T22:31:54.737329Z",
     "start_time": "2025-05-04T22:30:57.012679Z"
    }
   },
   "cell_type": "code",
   "source": [
    "phenotype_confidence_dict = {}\n",
    "for i in range(filtered_worm_network_df_aging.shape[0]):\n",
    "    agent_a = filtered_worm_network_df_aging.iloc[i]['agA_name']\n",
    "    agent_b = filtered_worm_network_df_aging.iloc[i]['agB_name']\n",
    "    confidence = filtered_worm_network_df_aging.iloc[i]['phenotype_confidence']\n",
    "    if agent_a not in phenotype_confidence_dict:\n",
    "        phenotype_confidence_dict[agent_a] = float(confidence)\n",
    "    if agent_b not in phenotype_confidence_dict:\n",
    "        phenotype_confidence_dict[agent_b] = float(confidence)\n",
    "\n",
    "for i in range(filtered_worm_network_df_full.shape[0]):\n",
    "    agent_a = filtered_worm_network_df_full.iloc[i]['agA_name']\n",
    "    agent_b = filtered_worm_network_df_full.iloc[i]['agB_name']\n",
    "    confidence = 0\n",
    "    if agent_a not in phenotype_confidence_dict:\n",
    "        phenotype_confidence_dict[agent_a] = float(confidence)\n",
    "    if agent_b not in phenotype_confidence_dict:\n",
    "        phenotype_confidence_dict[agent_b] = float(confidence)\n",
    "\n",
    "# print(phenotype_confidence_dict.keys())\n",
    "# print(Counter(phenotype_confidence_dict.values()))\n",
    "# print(len(phenotype_confidence_dict.keys()))\n",
    "\n",
    "import pickle\n",
    "\n",
    "with open('data/phenotype_confidence_dict.pkl', 'wb') as f:\n",
    "    pickle.dump(phenotype_confidence_dict, f)\n",
    "\n",
    "# with open('phenotype_confidence_dict.pkl', 'rb') as f:\n",
    "#     loaded = pickle.load(f)"
   ],
   "id": "5563acda9d6f12e2",
   "outputs": [],
   "execution_count": 81
  },
  {
   "metadata": {},
   "cell_type": "markdown",
   "source": "### Aging Network (with self loops and all contradictory interactions included)",
   "id": "e43a964cf80cdfda"
  },
  {
   "metadata": {
    "ExecuteTime": {
     "end_time": "2025-03-03T21:22:44.075522Z",
     "start_time": "2025-03-03T21:22:42.355564Z"
    }
   },
   "cell_type": "code",
   "source": [
    "## Create the aging network, plot a subgraph of it, and print its number of edges, nodes, and examples of edge attributes\n",
    "def flattening_function(G, edge):\n",
    "    # Return the average belief score of the constituent edges\n",
    "    all_beliefs = [s['belief'] for s in G.edges[edge]['statements']]\n",
    "    return sum(all_beliefs)/len(all_beliefs)\n",
    "\n",
    "sign_dict = {'Complex': 0, 'IncreaseAmount': 1, 'DecreaseAmount': -1, 'Phosphorylation': 0, 'Demethylation': 0, 'Methylation': 0}\n",
    "\n",
    "worm_network_aging_signed = IndraNet().signed_from_df(df=filtered_worm_network_df_aging, sign_dict=sign_dict, flattening_method=flattening_function)\n",
    "\n",
    "nodes_to_plot = list(worm_network_aging_signed.nodes())[:5]\n",
    "subgraph = worm_network_aging_signed.subgraph(nodes_to_plot)\n",
    "import matplotlib.pyplot as plt\n",
    "plt.figure(figsize=(3, 3))\n",
    "nx.draw(subgraph, with_labels=True, node_size=100, node_color='skyblue', font_size=10)\n",
    "plt.title('Subgraph of the Aging Network')\n",
    "plt.show()\n",
    "\n",
    "print(f'Number of nodes: {worm_network_aging_signed.number_of_nodes()}')\n",
    "print(f'Number of edges: {worm_network_aging_signed.number_of_edges()}')\n",
    "\n",
    "print(\"Edge attributes:\\n\")\n",
    "for u, v, data in subgraph.edges(data=True):\n",
    "    print(f\"Edge ({u}, {v}) has attributes: {data}\\n\")"
   ],
   "id": "9f5d426b187ab644",
   "outputs": [
    {
     "data": {
      "text/plain": [
       "<Figure size 300x300 with 1 Axes>"
      ],
      "image/png": "[encoded data removed]"
     },
     "metadata": {},
     "output_type": "display_data"
    },
    {
     "name": "stdout",
     "output_type": "stream",
     "text": [
      "Number of nodes: 2951\n",
      "Number of edges: 8246\n",
      "Edge attributes:\n",
      "\n",
      "Edge (ubq-1, ubq-1) has attributes: {'statements': [{'stmt_hash': 27707448942197684, 'stmt_type': 'Complex', 'evidence_count': 1, 'belief': 1, 'source_counts': {'wormbase': 1}, 'residue': None, 'position': None, 'initial_sign': None, 'discovery_year': 2021}], 'sign': 0, 'belief': 1.0}\n",
      "\n",
      "Edge (ubq-1, AC8.4) has attributes: {'statements': [{'stmt_hash': 19973094656955107, 'stmt_type': 'Complex', 'evidence_count': 1, 'belief': 1, 'source_counts': {'wormbase': 1}, 'residue': None, 'position': None, 'initial_sign': None, 'discovery_year': 2021}], 'sign': 0, 'belief': 1.0}\n",
      "\n",
      "Edge (ubq-1, B0001.4) has attributes: {'statements': [{'stmt_hash': -8702614086499404, 'stmt_type': 'Complex', 'evidence_count': 1, 'belief': 1, 'source_counts': {'wormbase': 1}, 'residue': None, 'position': None, 'initial_sign': None, 'discovery_year': 2021}], 'sign': 0, 'belief': 1.0}\n",
      "\n",
      "Edge (ubq-1, AC8.11) has attributes: {'statements': [{'stmt_hash': -30524959219935876, 'stmt_type': 'Complex', 'evidence_count': 1, 'belief': 1, 'source_counts': {'wormbase': 1}, 'residue': None, 'position': None, 'initial_sign': None, 'discovery_year': 2021}], 'sign': 0, 'belief': 1.0}\n",
      "\n",
      "Edge (ubq-1, AC3.5) has attributes: {'statements': [{'stmt_hash': -14601035944809483, 'stmt_type': 'Complex', 'evidence_count': 1, 'belief': 1, 'source_counts': {'wormbase': 1}, 'residue': None, 'position': None, 'initial_sign': None, 'discovery_year': 2021}], 'sign': 0, 'belief': 1.0}\n",
      "\n",
      "Edge (AC8.4, ubq-1) has attributes: {'statements': [{'stmt_hash': 19973094656955107, 'stmt_type': 'Complex', 'evidence_count': 1, 'belief': 1, 'source_counts': {'wormbase': 1}, 'residue': None, 'position': None, 'initial_sign': None, 'discovery_year': 2021}], 'sign': 0, 'belief': 1.0}\n",
      "\n",
      "Edge (B0001.4, ubq-1) has attributes: {'statements': [{'stmt_hash': -8702614086499404, 'stmt_type': 'Complex', 'evidence_count': 1, 'belief': 1, 'source_counts': {'wormbase': 1}, 'residue': None, 'position': None, 'initial_sign': None, 'discovery_year': 2021}], 'sign': 0, 'belief': 1.0}\n",
      "\n",
      "Edge (AC8.11, ubq-1) has attributes: {'statements': [{'stmt_hash': -30524959219935876, 'stmt_type': 'Complex', 'evidence_count': 1, 'belief': 1, 'source_counts': {'wormbase': 1}, 'residue': None, 'position': None, 'initial_sign': None, 'discovery_year': 2021}], 'sign': 0, 'belief': 1.0}\n",
      "\n",
      "Edge (AC3.5, ubq-1) has attributes: {'statements': [{'stmt_hash': -14601035944809483, 'stmt_type': 'Complex', 'evidence_count': 1, 'belief': 1, 'source_counts': {'wormbase': 1}, 'residue': None, 'position': None, 'initial_sign': None, 'discovery_year': 2021}], 'sign': 0, 'belief': 1.0}\n",
      "\n"
     ]
    }
   ],
   "execution_count": 354
  },
  {
   "metadata": {
    "ExecuteTime": {
     "end_time": "2025-03-03T20:11:27.131318Z",
     "start_time": "2025-03-03T20:11:26.633422Z"
    }
   },
   "cell_type": "code",
   "source": [
    "## Convert the networkx graph to a JSON-serializable format\n",
    "aging_graph_data = nx.node_link_data(worm_network_aging_signed)\n",
    "with open('data/worm_network_aging_signed.json', 'w') as f:\n",
    "    json.dump(aging_graph_data, f, indent=4)"
   ],
   "id": "efe57250ddbc2816",
   "outputs": [
    {
     "name": "stderr",
     "output_type": "stream",
     "text": [
      "/Users/bradleybuchner/Desktop/Grad School/Research/Aging Project/worm_lifespan/.venv/lib/python3.11/site-packages/networkx/readwrite/json_graph/node_link.py:142: FutureWarning: \n",
      "The default value will be `edges=\"edges\" in NetworkX 3.6.\n",
      "\n",
      "To make this warning go away, explicitly set the edges kwarg, e.g.:\n",
      "\n",
      "  nx.node_link_data(G, edges=\"links\") to preserve current behavior, or\n",
      "  nx.node_link_data(G, edges=\"edges\") for forward compatibility.\n",
      "  warnings.warn(\n"
     ]
    }
   ],
   "execution_count": 341
  },
  {
   "metadata": {},
   "cell_type": "markdown",
   "source": "### Aging Network (without self loops and all contradictory interactions included)",
   "id": "de1d3158a8e1786"
  },
  {
   "metadata": {
    "ExecuteTime": {
     "end_time": "2025-05-03T19:46:51.970564Z",
     "start_time": "2025-05-03T19:46:49.006907Z"
    }
   },
   "cell_type": "code",
   "source": [
    "## Create the aging network, plot a subgraph of it, and print its number of edges, nodes, and examples of edge attributes\n",
    "def flattening_function(G, edge):\n",
    "    # Return the average belief score of the constituent edges\n",
    "    all_beliefs = [s['belief'] for s in G.edges[edge]['statements']]\n",
    "    return sum(all_beliefs)/len(all_beliefs)\n",
    "\n",
    "sign_dict = {'Complex': 0, 'IncreaseAmount': 1, 'DecreaseAmount': -1, 'Phosphorylation': 0, 'Demethylation': 0, 'Methylation': 0}\n",
    "\n",
    "worm_network_basic_aging_signed = IndraNet().signed_from_df(df=filtered_worm_network_df_aging, sign_dict=sign_dict, flattening_method=flattening_function)\n",
    "\n",
    "nodes_to_plot = list(worm_network_basic_aging_signed.nodes())[:5]\n",
    "subgraph = worm_network_basic_aging_signed.subgraph(nodes_to_plot)\n",
    "import matplotlib.pyplot as plt\n",
    "plt.figure(figsize=(3, 3))\n",
    "nx.draw(subgraph, with_labels=True, node_size=100, node_color='skyblue', font_size=10)\n",
    "plt.title('Subgraph of the Aging Network')\n",
    "plt.show()\n",
    "\n",
    "print(f'Number of nodes: {worm_network_basic_aging_signed.number_of_nodes()}')\n",
    "print(f'Number of edges: {worm_network_basic_aging_signed.number_of_edges()}')\n",
    "\n",
    "print(\"Edge attributes:\\n\")\n",
    "for u, v, data in subgraph.edges(data=True):\n",
    "    print(f\"Edge ({u}, {v}) has attributes: {data}\\n\")"
   ],
   "id": "54230a8efff938c6",
   "outputs": [
    {
     "data": {
      "text/plain": [
       "<Figure size 300x300 with 1 Axes>"
      ],
      "image/png": "[encoded data removed]"
     },
     "metadata": {},
     "output_type": "display_data"
    },
    {
     "name": "stdout",
     "output_type": "stream",
     "text": [
      "Number of nodes: 2951\n",
      "Number of edges: 8234\n",
      "Edge attributes:\n",
      "\n",
      "Edge (hsf-1, ddl-2) has attributes: {'statements': [{'stmt_hash': 25545491457753874, 'stmt_type': 'DecreaseAmount', 'evidence_count': 1, 'belief': 1, 'source_counts': {'wormbase': 1}, 'residue': None, 'initial_sign': None, 'discovery_year': 2012, 'interaction_confidence': 0.32625951034201905, 'phenotype_confidence': 0.35541805240316376, 'evidence_count_custom': 2, 'position': None}], 'sign': -1, 'belief': 1.0}\n",
      "\n",
      "Edge (hsf-1, hsb-1) has attributes: {'statements': [{'stmt_hash': 24470350702083479, 'stmt_type': 'DecreaseAmount', 'evidence_count': 1, 'belief': 1, 'source_counts': {'wormbase': 1}, 'residue': None, 'initial_sign': None, 'discovery_year': 2012, 'interaction_confidence': 0.20584683246043445, 'phenotype_confidence': 0.2242438242175754, 'evidence_count_custom': 1, 'position': None}], 'sign': -1, 'belief': 1.0}\n",
      "\n",
      "Edge (hsf-1, ddl-1) has attributes: {'statements': [{'stmt_hash': -30658433531762854, 'stmt_type': 'Complex', 'evidence_count': 1, 'belief': 1, 'source_counts': {'wormbase': 1}, 'residue': None, 'initial_sign': None, 'discovery_year': 2012, 'interaction_confidence': 0.32625951034201905, 'phenotype_confidence': 0.35541805240316376, 'evidence_count_custom': 2, 'position': None}], 'sign': 0, 'belief': 1.0}\n",
      "\n",
      "Edge (ddl-2, ddl-1) has attributes: {'statements': [{'stmt_hash': -3625928224490352, 'stmt_type': 'Complex', 'evidence_count': 1, 'belief': 1, 'source_counts': {'wormbase': 1}, 'residue': None, 'initial_sign': None, 'discovery_year': 2012, 'interaction_confidence': 1.0, 'phenotype_confidence': 0.35541805240316376, 'evidence_count_custom': 28, 'position': None}], 'sign': 0, 'belief': 1.0}\n",
      "\n",
      "Edge (hsb-1, ddl-1) has attributes: {'statements': [{'stmt_hash': 15304337164734656, 'stmt_type': 'Complex', 'evidence_count': 1, 'belief': 1, 'source_counts': {'wormbase': 1}, 'residue': None, 'initial_sign': None, 'discovery_year': 2012, 'interaction_confidence': 0.9438000077233224, 'phenotype_confidence': 0.35541805240316376, 'evidence_count_custom': 23, 'position': None}], 'sign': 0, 'belief': 1.0}\n",
      "\n",
      "Edge (hsb-1, ddl-2) has attributes: {'statements': [{'stmt_hash': -22969827072112224, 'stmt_type': 'DecreaseAmount', 'evidence_count': 1, 'belief': 1, 'source_counts': {'wormbase': 1}, 'residue': None, 'initial_sign': None, 'discovery_year': 2012, 'interaction_confidence': 0.20584683246043445, 'phenotype_confidence': 0.2242438242175754, 'evidence_count_custom': 1, 'position': None}], 'sign': -1, 'belief': 1.0}\n",
      "\n",
      "Edge (ddl-1, ddl-2) has attributes: {'statements': [{'stmt_hash': -3625928224490352, 'stmt_type': 'Complex', 'evidence_count': 1, 'belief': 1, 'source_counts': {'wormbase': 1}, 'residue': None, 'initial_sign': None, 'discovery_year': 2012, 'interaction_confidence': 1.0, 'phenotype_confidence': 0.35541805240316376, 'evidence_count_custom': 28, 'position': None}], 'sign': 0, 'belief': 1.0}\n",
      "\n",
      "Edge (ddl-1, hsb-1) has attributes: {'statements': [{'stmt_hash': 15304337164734656, 'stmt_type': 'Complex', 'evidence_count': 1, 'belief': 1, 'source_counts': {'wormbase': 1}, 'residue': None, 'initial_sign': None, 'discovery_year': 2012, 'interaction_confidence': 0.9438000077233224, 'phenotype_confidence': 0.35541805240316376, 'evidence_count_custom': 23, 'position': None}], 'sign': 0, 'belief': 1.0}\n",
      "\n",
      "Edge (ddl-1, hsf-1) has attributes: {'statements': [{'stmt_hash': -30658433531762854, 'stmt_type': 'Complex', 'evidence_count': 1, 'belief': 1, 'source_counts': {'wormbase': 1}, 'residue': None, 'initial_sign': None, 'discovery_year': 2012, 'interaction_confidence': 0.32625951034201905, 'phenotype_confidence': 0.35541805240316376, 'evidence_count_custom': 2, 'position': None}], 'sign': 0, 'belief': 1.0}\n",
      "\n"
     ]
    }
   ],
   "execution_count": 70
  },
  {
   "metadata": {
    "ExecuteTime": {
     "end_time": "2025-05-03T19:47:48.460759Z",
     "start_time": "2025-05-03T19:47:47.720568Z"
    }
   },
   "cell_type": "code",
   "source": [
    "## Convert the networkx graph to a JSON-serializable format\n",
    "aging_basic_graph_data = nx.node_link_data(worm_network_basic_aging_signed)\n",
    "with open('data/worm_network_basic_aging_signed.json', 'w') as f:\n",
    "    json.dump(aging_basic_graph_data, f, indent=4)"
   ],
   "id": "adc993f45b2d7354",
   "outputs": [
    {
     "name": "stderr",
     "output_type": "stream",
     "text": [
      "/Users/bradleybuchner/Desktop/Grad School/Research/Aging Project/worm_lifespan/.venv/lib/python3.11/site-packages/networkx/readwrite/json_graph/node_link.py:142: FutureWarning: \n",
      "The default value will be `edges=\"edges\" in NetworkX 3.6.\n",
      "\n",
      "To make this warning go away, explicitly set the edges kwarg, e.g.:\n",
      "\n",
      "  nx.node_link_data(G, edges=\"links\") to preserve current behavior, or\n",
      "  nx.node_link_data(G, edges=\"edges\") for forward compatibility.\n",
      "  warnings.warn(\n"
     ]
    }
   ],
   "execution_count": 71
  },
  {
   "metadata": {
    "ExecuteTime": {
     "end_time": "2025-03-03T22:09:20.323403Z",
     "start_time": "2025-03-03T22:09:15.301075Z"
    }
   },
   "cell_type": "code",
   "source": [
    "# %%capture\n",
    "import os\n",
    "wd = os.getcwd()\n",
    "path = os.path.join(wd, 'worm_indranet.ipynb')\n",
    "!jupyter nbconvert --to HTML \"{path}\""
   ],
   "id": "11ddedba6d05ad84",
   "outputs": [
    {
     "name": "stdout",
     "output_type": "stream",
     "text": [
      "[NbConvertApp] Converting notebook /Users/bradleybuchner/Desktop/Grad School/Research/Aging Project/worm_lifespan/worm_lifespan/worm_indranet.ipynb to HTML\r\n",
      "[NbConvertApp] WARNING | Alternative text is missing on 2 image(s).\r\n",
      "[NbConvertApp] Writing 393291 bytes to /Users/bradleybuchner/Desktop/Grad School/Research/Aging Project/worm_lifespan/worm_lifespan/worm_indranet.html\r\n"
     ]
    }
   ],
   "execution_count": 357
  },
  {
   "metadata": {},
   "cell_type": "code",
   "outputs": [],
   "execution_count": null,
   "source": "",
   "id": "85ed42dacf6786cf"
  }
 ],
 "metadata": {
  "kernelspec": {
   "display_name": "Python 3",
   "language": "python",
   "name": "python3"
  },
  "language_info": {
   "codemirror_mode": {
    "name": "ipython",
    "version": 2
   },
   "file_extension": ".py",
   "mimetype": "text/x-python",
   "name": "python",
   "nbconvert_exporter": "python",
   "pygments_lexer": "ipython2",
   "version": "2.7.6"
  }
 },
 "nbformat": 4,
 "nbformat_minor": 5
}
